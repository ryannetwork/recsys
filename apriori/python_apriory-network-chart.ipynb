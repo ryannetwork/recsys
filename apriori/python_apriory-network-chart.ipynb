{
 "cells": [
  {
   "cell_type": "code",
   "execution_count": 1,
   "metadata": {},
   "outputs": [
    {
     "name": "stdout",
     "output_type": "stream",
     "text": [
      "Start 2020-07-16 14:03:07.590311\n",
      "Allocated 2020-07-16 14:03:50.189001\n"
     ]
    }
   ],
   "source": [
    "import re\n",
    "import pandas as pd\n",
    "import numpy as np\n",
    "\n",
    "from datetime import datetime as dt\n",
    "\n",
    "import os\n",
    "import sys\n",
    " \n",
    "spark_home = '/opt/cloudera/parcels/SPARK2/lib/spark2'\n",
    "os.environ['SPARK_HOME'] = spark_home\n",
    "os.environ['PYSPARK_DRIVER_PYTHON'] = '/opt/cloudera/parcels/PYENV.ZNO20008661/bin/python'\n",
    "os.environ['PYSPARK_PYTHON'] = '/opt/cloudera/parcels/PYENV.ZNO20008661/bin/python'\n",
    "\n",
    "os.environ['LD_LIBRARY_PATH'] = '/opt/python/virtualenv/jupyter/lib'\n",
    "\n",
    "sys.path.insert(0, os.path.join (spark_home,'python'))\n",
    "\n",
    "sys.path.insert(0, os.path.join (spark_home,'python/lib/py4j-0.10.7-src.zip'))\n",
    "from pyspark import SparkContext, SparkConf, HiveContext\n",
    "\n",
    "\n",
    "conf = SparkConf().setAppName('IskraComis')\\\n",
    "    .setMaster(\"yarn-client\")\\\n",
    "    .set('spark.dynamicAllocation.enabled', 'true')\\\n",
    "    .set('hive.exec.dynamic.partition.mode', 'nonstrict') \\\n",
    "    .set('spark.executor.memory','20g') \\\n",
    "    .set('spark.driver.memory', '20g') \\\n",
    "    .set('spark.executor.cores', '2') \\\n",
    "    .set('spark.executor.instances', '140') \\\n",
    "    .set('spark.driver.maxResultSize','10g') \\\n",
    "    .set('spark.yarn.driver.memoryOverhead', '2g') \\\n",
    "    .set('spark.port.maxRetries', '150') \\\n",
    "    .set('spark.kryoserializer.buffer.max.mb','512') \\\n",
    "    .set('\"spark.default.parallelism','1000') \\\n",
    "    .set('spark.ui.killEnable','true')\n",
    "\n",
    "print('Start',dt.now())\n",
    "sc = SparkContext.getOrCreate(conf=conf)\n",
    "# Запуск HiveContext\n",
    "hive = HiveContext(sc)\n",
    "print('Allocated', dt.now())\n",
    "\n",
    "%matplotlib inline\n",
    "pd.set_option('display.float_format', '{:.2f}'.format)\n",
    "pd.set_option('display.max_rows', 1000)\n",
    "pd.set_option('display.max_columns', 1000)"
   ]
  },
  {
   "cell_type": "code",
   "execution_count": 2,
   "metadata": {
    "collapsed": true
   },
   "outputs": [],
   "source": [
    "from pyspark.sql.types import TimestampType, DoubleType, IntegerType, StringType, DateType\n",
    "from pyspark.sql.functions import *\n",
    "from pyspark.sql.window import *"
   ]
  },
  {
   "cell_type": "code",
   "execution_count": 3,
   "metadata": {
    "collapsed": true
   },
   "outputs": [],
   "source": [
    "from apyori import apriori"
   ]
  },
  {
   "cell_type": "code",
   "execution_count": 4,
   "metadata": {
    "collapsed": true
   },
   "outputs": [],
   "source": [
    "mon_iskra_prod = hive.table('team_pricing.product_iskra_temp_20200715')"
   ]
  },
  {
   "cell_type": "code",
   "execution_count": 5,
   "metadata": {
    "collapsed": true
   },
   "outputs": [],
   "source": [
    "trainDf = mon_iskra_prod \\\n",
    "    .filter(col('flag_true_row')==1) \\\n",
    "    .groupBy('inn', 'min_mon') \\\n",
    "    .agg(collect_list('product').alias('items')) \\\n",
    "    .withColumn(\"items\", concat_ws(\", \", \"items\"))"
   ]
  },
  {
   "cell_type": "code",
   "execution_count": 6,
   "metadata": {},
   "outputs": [
    {
     "name": "stdout",
     "output_type": "stream",
     "text": [
      "CPU times: user 43.2 s, sys: 8.13 s, total: 51.4 s\n",
      "Wall time: 1min 8s\n"
     ]
    }
   ],
   "source": [
    "%%time\n",
    "df = trainDf.toPandas()"
   ]
  },
  {
   "cell_type": "code",
   "execution_count": 7,
   "metadata": {
    "collapsed": true
   },
   "outputs": [],
   "source": [
    "df['items'] = df['items'].str.replace(' ', '').str.split(',')"
   ]
  },
  {
   "cell_type": "code",
   "execution_count": 8,
   "metadata": {
    "collapsed": true
   },
   "outputs": [],
   "source": [
    "records = list(df['items'].values)"
   ]
  },
  {
   "cell_type": "code",
   "execution_count": 9,
   "metadata": {
    "collapsed": true
   },
   "outputs": [],
   "source": [
    "association_rules = apriori(records, min_support=0.0053, min_confidence=0.20, min_lift=1.5, min_length=2)\n",
    "association_results = list(association_rules)"
   ]
  },
  {
   "cell_type": "code",
   "execution_count": 10,
   "metadata": {},
   "outputs": [
    {
     "name": "stdout",
     "output_type": "stream",
     "text": [
      "17\n"
     ]
    }
   ],
   "source": [
    "print(len(association_results))"
   ]
  },
  {
   "cell_type": "code",
   "execution_count": 11,
   "metadata": {
    "collapsed": true
   },
   "outputs": [],
   "source": [
    "results = []\n",
    "for item in association_results:\n",
    "\n",
    "    value01 = ([x for x in item[0]])\n",
    "    value02 = ([x for x in item[2][0][0]])\n",
    "    value1 = ([x for x in item[2][0][1]])\n",
    "    value2 = (item[1])\n",
    "    value3 = (item[2][0][2])\n",
    "    value4 = (item[2][0][3])\n",
    "    \n",
    "    rows = (value01, value02, value1, value2, value3, value4)\n",
    "    results.append(rows)\n",
    "    \n",
    "labels = ['basket', 'antecedent','consequent', 'support', 'confidence', 'lift']\n",
    "product_suggestion = pd.DataFrame.from_records(results, columns = labels)"
   ]
  },
  {
   "cell_type": "code",
   "execution_count": 12,
   "metadata": {
    "collapsed": true,
    "scrolled": false
   },
   "outputs": [],
   "source": [
    "rules = pd.DataFrame(product_suggestion)"
   ]
  },
  {
   "cell_type": "code",
   "execution_count": 14,
   "metadata": {},
   "outputs": [
    {
     "name": "stderr",
     "output_type": "stream",
     "text": [
      "/home/korniltsev1-da_ca-sbrf-ru/.local/lib/python3.5/site-packages/pandas/compat/_optional.py:106: UserWarning: Pandas requires version '0.9.8' or newer of 'xlsxwriter' (version '0.9.6' currently installed).\n",
      "  warnings.warn(msg, UserWarning)\n"
     ]
    }
   ],
   "source": [
    "rules.to_excel(\"./data/rules-inn-mon-as-bill.xlsx\", header=True, index=False)"
   ]
  }
 ],
 "metadata": {
  "kernelspec": {
   "display_name": "Python 3.5.3 (ZNO20008661)",
   "language": "python",
   "name": "python35"
  },
  "language_info": {
   "codemirror_mode": {
    "name": "ipython",
    "version": 3
   },
   "file_extension": ".py",
   "mimetype": "text/x-python",
   "name": "python",
   "nbconvert_exporter": "python",
   "pygments_lexer": "ipython3",
   "version": "3.5.3"
  }
 },
 "nbformat": 4,
 "nbformat_minor": 2
}
