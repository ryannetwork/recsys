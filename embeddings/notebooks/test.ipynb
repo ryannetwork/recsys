{
 "nbformat": 4,
 "nbformat_minor": 2,
 "metadata": {
  "language_info": {
   "name": "python",
   "codemirror_mode": {
    "name": "ipython",
    "version": 3
   },
   "version": "3.7.4-final"
  },
  "orig_nbformat": 2,
  "file_extension": ".py",
  "mimetype": "text/x-python",
  "name": "python",
  "npconvert_exporter": "python",
  "pygments_lexer": "ipython3",
  "version": 3,
  "kernelspec": {
   "name": "python3",
   "display_name": "Python 3"
  }
 },
 "cells": [
  {
   "cell_type": "code",
   "execution_count": 42,
   "metadata": {},
   "outputs": [],
   "source": [
    "import pandas as pd\n",
    "import numpy as np\n",
    "from sklearn.preprocessing import LabelEncoder\n",
    "from torch.utils.data import DataLoader\n",
    "import sys\n",
    "import torch\n",
    "import torch.nn as nn\n",
    "from sklearn.model_selection import cross_val_predict, KFold\n",
    "from sklearn.ensemble import RandomForestRegressor\n",
    "from sklearn.metrics import mean_absolute_error, mean_squared_error"
   ]
  },
  {
   "cell_type": "code",
   "execution_count": 43,
   "metadata": {},
   "outputs": [],
   "source": [
    "cv = KFold(n_splits=5, random_state=45)"
   ]
  },
  {
   "cell_type": "code",
   "execution_count": 2,
   "metadata": {},
   "outputs": [],
   "source": [
    "sys.path.append('../experiments/')\n",
    "from entity_embeddings import EmbeddingDataset, EmbeddingNN, train_embedding_model"
   ]
  },
  {
   "cell_type": "code",
   "execution_count": 3,
   "metadata": {},
   "outputs": [],
   "source": [
    "data = pd.read_csv(\"../data/train_house.csv\",\n",
    "                   usecols=[\"SalePrice\", \"MSSubClass\", \"MSZoning\",\n",
    "                            \"LotFrontage\", \"LotArea\",\n",
    "                            \"Street\", \"YearBuilt\", \"LotShape\",\n",
    "                            \"1stFlrSF\", \"2ndFlrSF\"])\\\n",
    "    .dropna()"
   ]
  },
  {
   "cell_type": "code",
   "execution_count": 4,
   "metadata": {},
   "outputs": [],
   "source": [
    "categorical_features = [\"MSSubClass\", \"MSZoning\", \"Street\",\n",
    "                        \"LotShape\", \"YearBuilt\"]\n",
    "output_feature = \"SalePrice\"\n",
    "label_encoders = {}\n",
    "for cat_col in categorical_features:\n",
    "    label_encoders[cat_col] = LabelEncoder()\n",
    "    data[cat_col] = label_encoders[cat_col].fit_transform(data[cat_col])"
   ]
  },
  {
   "cell_type": "code",
   "execution_count": 5,
   "metadata": {},
   "outputs": [],
   "source": [
    "dataset = EmbeddingDataset(data=data, cat_cols=categorical_features,\n",
    "                             output_col=output_feature)"
   ]
  },
  {
   "cell_type": "code",
   "execution_count": 6,
   "metadata": {},
   "outputs": [],
   "source": [
    "batchsize = 64\n",
    "dataloader = DataLoader(dataset, batchsize, shuffle=True, num_workers=1)"
   ]
  },
  {
   "cell_type": "code",
   "execution_count": 7,
   "metadata": {},
   "outputs": [],
   "source": [
    "cat_dims = [int(data[col].nunique()) for col in categorical_features]\n",
    "\n",
    "emb_dims = [(x, min(50, (x + 1) // 2)) for x in cat_dims]"
   ]
  },
  {
   "cell_type": "code",
   "execution_count": 8,
   "metadata": {},
   "outputs": [],
   "source": [
    "device = torch.device('cuda' if torch.cuda.is_available() else 'cpu')\n",
    "model = EmbeddingNN(emb_dims, no_of_cont=4, lin_layer_sizes=[50, 100],\n",
    "                          output_size=1, emb_dropout=0.04,\n",
    "                          lin_layer_dropouts=[0.001, 0.01])\\\n",
    "    .to(device)"
   ]
  },
  {
   "cell_type": "code",
   "execution_count": 9,
   "metadata": {},
   "outputs": [
    {
     "output_type": "stream",
     "name": "stdout",
     "text": "loss on epoch 0 is 30464933888.0\nloss on epoch 1 is 45675249664.0\nloss on epoch 2 is 29134524416.0\nloss on epoch 3 is 49721446400.0\nloss on epoch 4 is 28392325120.0\nloss on epoch 5 is 35265019904.0\nloss on epoch 6 is 24488040448.0\nloss on epoch 7 is 19568803840.0\nloss on epoch 8 is 19931912192.0\nloss on epoch 9 is 14278952960.0\nloss on epoch 10 is 11385565184.0\nloss on epoch 11 is 5977475584.0\nloss on epoch 12 is 4427692544.0\nloss on epoch 13 is 6609956352.0\nloss on epoch 14 is 2248703488.0\nloss on epoch 15 is 2946184704.0\nloss on epoch 16 is 1694608384.0\nloss on epoch 17 is 2272303104.0\nloss on epoch 18 is 983650496.0\nloss on epoch 19 is 634310400.0\nloss on epoch 20 is 1768392448.0\nloss on epoch 21 is 2190784512.0\nloss on epoch 22 is 595133184.0\nloss on epoch 23 is 1976399360.0\nloss on epoch 24 is 1601166336.0\nloss on epoch 25 is 1068084608.0\nloss on epoch 26 is 601896064.0\nloss on epoch 27 is 935945344.0\nloss on epoch 28 is 429480192.0\nloss on epoch 29 is 770927040.0\n"
    }
   ],
   "source": [
    "adam = torch.optim.Adam(model.parameters(), lr=0.1)\n",
    "train_embedding_model(model, dataloader, 30, criterion=nn.MSELoss(), optimizer=adam)"
   ]
  },
  {
   "cell_type": "code",
   "execution_count": 11,
   "metadata": {},
   "outputs": [],
   "source": [
    "data_ohe = pd.get_dummies(data, columns=categorical_features)"
   ]
  },
  {
   "cell_type": "code",
   "execution_count": 37,
   "metadata": {},
   "outputs": [
    {
     "output_type": "execute_result",
     "data": {
      "text/plain": "(1201, 143)"
     },
     "metadata": {},
     "execution_count": 37
    }
   ],
   "source": [
    "data_ohe.shape"
   ]
  },
  {
   "cell_type": "code",
   "execution_count": 13,
   "metadata": {},
   "outputs": [],
   "source": [
    "rf = RandomForestRegressor(n_estimators=100, n_jobs=-1)"
   ]
  },
  {
   "cell_type": "code",
   "execution_count": 54,
   "metadata": {},
   "outputs": [],
   "source": [
    "pred = cross_val_predict(rf, data.drop(output_feature, axis=1), data[output_feature], cv=cv)"
   ]
  },
  {
   "cell_type": "code",
   "execution_count": 55,
   "metadata": {},
   "outputs": [
    {
     "output_type": "execute_result",
     "data": {
      "text/plain": "(22980.178090559453, 1347717706.3195999)"
     },
     "metadata": {},
     "execution_count": 55
    }
   ],
   "source": [
    "mean_absolute_error(data[output_feature], pred), mean_squared_error(data[output_feature], pred)"
   ]
  },
  {
   "cell_type": "code",
   "execution_count": 31,
   "metadata": {},
   "outputs": [],
   "source": [
    "data_emb = data.copy()\n",
    "for col in categorical_features:\n",
    "    data_emb[col] = label_encoders[col].inverse_transform(data_emb[col])\n",
    "    data_emb[col] = data_emb[col].map(model.get_embeddings(categorical_features, emb_dims, label_encoders)[col])"
   ]
  },
  {
   "cell_type": "code",
   "execution_count": 34,
   "metadata": {},
   "outputs": [],
   "source": [
    "for col in categorical_features:\n",
    "    tags = data_emb[col].apply(pd.Series)\n",
    "    tags = tags.rename(columns = lambda x : f'{col}_' + str(x))\n",
    "    data_emb = pd.concat([data_emb.drop(col, axis=1)[:], tags[:]], axis=1)"
   ]
  },
  {
   "cell_type": "code",
   "execution_count": 57,
   "metadata": {},
   "outputs": [
    {
     "output_type": "execute_result",
     "data": {
      "text/plain": "(1201, 69)"
     },
     "metadata": {},
     "execution_count": 57
    }
   ],
   "source": [
    "data_emb.shape"
   ]
  },
  {
   "cell_type": "code",
   "execution_count": 52,
   "metadata": {},
   "outputs": [],
   "source": [
    "pred = cross_val_predict(rf, data_emb.drop(output_feature, axis=1), data_emb[output_feature], cv=cv)"
   ]
  },
  {
   "cell_type": "code",
   "execution_count": 53,
   "metadata": {},
   "outputs": [
    {
     "output_type": "execute_result",
     "data": {
      "text/plain": "(22957.46829722586, 1368014609.14349)"
     },
     "metadata": {},
     "execution_count": 53
    }
   ],
   "source": [
    "mean_absolute_error(data[output_feature], pred), mean_squared_error(data[output_feature], pred)"
   ]
  },
  {
   "cell_type": "code",
   "execution_count": null,
   "metadata": {},
   "outputs": [],
   "source": []
  }
 ]
}