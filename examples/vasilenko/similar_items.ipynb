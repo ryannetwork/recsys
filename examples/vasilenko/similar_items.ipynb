{
 "cells": [
  {
   "cell_type": "code",
   "execution_count": 1,
   "metadata": {},
   "outputs": [],
   "source": [
    "import numpy as np\n",
    "import pandas as pd\n",
    "from sklearn.metrics.pairwise import cosine_similarity\n",
    "import warnings\n",
    "\n",
    "warnings.filterwarnings('ignore')"
   ]
  },
  {
   "cell_type": "code",
   "execution_count": 2,
   "metadata": {},
   "outputs": [],
   "source": [
    "# Метрики расстояний\n",
    "\n",
    "def euclidean(X, value):\n",
    "    \n",
    "    distances = np.linalg.norm(X - value, axis=1)\n",
    "    return distances\n",
    "\n",
    "def cosine(cos_matrix):\n",
    "    \n",
    "    distances = cos_matrix[df.loc[df.hash_inn == inn].index[0]]\n",
    "    return -distances"
   ]
  },
  {
   "cell_type": "code",
   "execution_count": 3,
   "metadata": {},
   "outputs": [],
   "source": [
    "def percentile(p, distances, X):\n",
    "    \n",
    "        return np.round(np.mean(np.sort(distances)[:len(X)*p//100]),5)\n",
    "    \n",
    "def top_n(n, distances, X):\n",
    "    \n",
    "        return np.round(np.mean(np.sort(distances)[:n]),5)\n",
    "\n",
    "def similars(X, value, inn, N = 5, treshold = 1, metric = euclidean, matrix = None):\n",
    "\n",
    "    if metric == euclidean:\n",
    "        distances = metric(X, value)\n",
    "    elif metric == cosine:\n",
    "        if matrix is None:\n",
    "            return print('Нужно передать матрицу cos_matrix')\n",
    "        else:\n",
    "            distances = metric(matrix)\n",
    "        \n",
    "    arg_nearest = distances.argsort()[0:N]\n",
    "    \n",
    "    n_dist = np.sort(distances)[0:N]\n",
    "    arg_nearest = arg_nearest[(n_dist < treshold)]\n",
    "    \n",
    "    #отношение дистанции относительно ближайшего элемента\n",
    "    per_dist = [abs(n_dist[i]/n_dist[0]) if n_dist[0] != 0 else abs(n_dist[i]) for i in range(len(n_dist))]\n",
    "    \n",
    "    result = df.iloc[arg_nearest]\n",
    "    result['distance'] = abs(n_dist)\n",
    "    \n",
    "    \n",
    "    print('mean distance in percentile: \\n p1: {0} \\n p5: {1} \\n p10: {2} \\n p25: {3} \\n'\n",
    "                  .format(*[abs(percentile(p, distances, X)) for p in [1,5,10,20]]))\n",
    "    \n",
    "    print('mean distance in top N values: \\n top5: {0} \\n top10: {1} \\n top20: {2} \\n top50: {3} \\n'\n",
    "                  .format(*[abs(top_n(p, distances, X)) for p in [5,10,20,50]]))\n",
    "    \n",
    "    print('отношение первых N дистанций к дистанции ближайшего элемента: \\n', per_dist, '\\n')\n",
    "    print('\\n', result[['hash_inn','okved2','distance']])\n",
    "    print('\\n real okved =', df.loc[df.hash_inn==inn].okved2.values[0])\n",
    "    \n",
    "    return result[['hash_inn','okved2','distance']]"
   ]
  },
  {
   "cell_type": "code",
   "execution_count": 4,
   "metadata": {},
   "outputs": [],
   "source": [
    "\"\"\"\n",
    "X - выходной эмбеддинг\n",
    "result_df - датафрейм размерности inn, okved + len(X) и тем же порядком inn\n",
    "\"\"\"\n",
    "result_df = pd.read_csv('../data/result_df.csv').fillna(0)\n",
    "result_df = result_df.iloc[:100]\n",
    "\n",
    "# в качестве эмбеддинга возьмем сами значения датафрейма\n",
    "X = result_df.filter(regex=(\"count_kt\")).values\n",
    "\n",
    "df = pd.concat([result_df[['hash_inn','okved2']],\n",
    "                pd.DataFrame(X, columns= [str(i) for i in range(len(X[0]))])], axis=1)"
   ]
  },
  {
   "cell_type": "code",
   "execution_count": 5,
   "metadata": {},
   "outputs": [],
   "source": [
    "# вычисляем косинусное расстояние\n",
    "cos_matrix = cosine_similarity(X)"
   ]
  },
  {
   "cell_type": "code",
   "execution_count": 6,
   "metadata": {},
   "outputs": [
    {
     "name": "stdout",
     "output_type": "stream",
     "text": [
      "mean distance in percentile: \n",
      " p1: 0.0 \n",
      " p5: 0.0 \n",
      " p10: 0.0 \n",
      " p25: 0.0 \n",
      "\n",
      "mean distance in top N values: \n",
      " top5: 0.0 \n",
      " top10: 0.0 \n",
      " top20: 0.0 \n",
      " top50: 0.49047 \n",
      "\n",
      "отношение первых N дистанций к дистанции ближайшего элемента: \n",
      " [0.0, 0.0, 0.0, 0.0, 0.0, 0.0, 0.0, 0.0, 0.0, 0.0, 0.0, 0.0, 0.0, 0.0, 0.0] \n",
      "\n",
      "\n",
      "     hash_inn  okved2  distance\n",
      "0      61058      34       0.0\n",
      "24    221180      52       0.0\n",
      "25    123045      26       0.0\n",
      "27    242879      34       0.0\n",
      "29    154902      18       0.0\n",
      "34    174903      14       0.0\n",
      "35      2285      16       0.0\n",
      "36      9463      11       0.0\n",
      "40     49299       6       0.0\n",
      "48    256315      34       0.0\n",
      "51    241257      67       0.0\n",
      "57    116503      52       0.0\n",
      "60    117458      14       0.0\n",
      "63    156771      26       0.0\n",
      "67     43234      23       0.0\n",
      "\n",
      " real okved = 34\n"
     ]
    }
   ],
   "source": [
    "\"\"\"\n",
    "metric - реализованные метрики расстояний (cosine, euclidean)\n",
    "matrix - матрица косинусных расстояний \n",
    "\"\"\"\n",
    "inn = 61058\n",
    "result = similars(X, X[df.loc[df.hash_inn == inn].index[0]], inn, N = 15, treshold = 100,\n",
    "                  metric = euclidean, matrix = None)"
   ]
  }
 ],
 "metadata": {
  "kernelspec": {
   "display_name": "Python 3",
   "language": "python",
   "name": "python3"
  },
  "language_info": {
   "codemirror_mode": {
    "name": "ipython",
    "version": 3
   },
   "file_extension": ".py",
   "mimetype": "text/x-python",
   "name": "python",
   "nbconvert_exporter": "python",
   "pygments_lexer": "ipython3",
   "version": "3.7.7"
  }
 },
 "nbformat": 4,
 "nbformat_minor": 2
}
