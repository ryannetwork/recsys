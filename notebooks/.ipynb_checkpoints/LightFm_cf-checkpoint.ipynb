{
 "cells": [
  {
   "cell_type": "code",
   "execution_count": 82,
   "metadata": {},
   "outputs": [],
   "source": [
    "import numpy as np\n",
    "import pandas as pd\n",
    "from lightfm import LightFM\n",
    "import scipy\n",
    "from lightfm.evaluation import precision_at_k\n",
    "from lightfm.evaluation import recall_at_k\n",
    "from sklearn.metrics import f1_score\n",
    "import warnings\n",
    "\n",
    "warnings.filterwarnings('ignore')\n",
    "pd.set_option('display.max_rows', 100)\n",
    "pd.set_option('display.max_columns', 500)"
   ]
  },
  {
   "cell_type": "code",
   "execution_count": 83,
   "metadata": {},
   "outputs": [],
   "source": [
    "#Чуть-чуть изменил твой скрипт сборки. Все ОКВЭДы из приватного сета заменил на 1000\n",
    "result_df = pd.read_csv('../data/result_df_without_private.csv')\n",
    "\n",
    "#выкидываю приватные ОКВЭДы\n",
    "result_df = result_df.drop(columns=result_df.filter(regex=(\"1000\")).columns)\n",
    "result_df = result_df.fillna(0)"
   ]
  },
  {
   "cell_type": "code",
   "execution_count": 89,
   "metadata": {},
   "outputs": [
    {
     "name": "stdout",
     "output_type": "stream",
     "text": [
      "CPU times: user 3min 2s, sys: 297 ms, total: 3min 2s\n",
      "Wall time: 3min 1s\n",
      "Train recall: 0.65\n",
      "Train precision: 1.00\n"
     ]
    }
   ],
   "source": [
    "#оставим отрасли, где ИНН был получателем. Пробовал включать, когда был ИНН являлся и отправителем и оба одновременно - F1 падает.\n",
    "result_df_kt = result_df.filter(regex=(\"count_kt\"))\n",
    "#создаем разряженную матрицу для работы с LightFM\n",
    "sm = scipy.sparse.csr_matrix(result_df_kt.values)\n",
    "\n",
    "#данная лосс функция использует только к-ый(это гиперпараметр) положительный пример для кажлого пользователя.\n",
    "#также можно задать максимальное кол-во положительных примеров для каждого апдейта.\n",
    "model = LightFM(loss='warp-kos', k=1)\n",
    "%time model.fit(sm, epochs=500, num_threads=1)\n",
    "\n",
    "print(\"Train recall: %.2f\" % recall_at_k(model, sm, k=1).mean())\n",
    "print(\"Train precision: %.2f\" % precision_at_k(model, sm, k=1).mean())"
   ]
  },
  {
   "cell_type": "code",
   "execution_count": 90,
   "metadata": {},
   "outputs": [],
   "source": [
    "def sample_recommendation(model, data, user_ids):\n",
    "    \n",
    "    pred = []\n",
    "    n_users, n_items = data.shape\n",
    "\n",
    "    for user_id in user_ids:\n",
    "        \n",
    "        scores = model.predict(user_id, np.arange(n_items))\n",
    "        top_items = data.columns[np.argsort(-scores)][0]\n",
    "        pred.append(top_items)\n",
    "        \n",
    "    return pred"
   ]
  },
  {
   "cell_type": "code",
   "execution_count": 91,
   "metadata": {},
   "outputs": [],
   "source": [
    "#предсказаия для приватного сета\n",
    "preds = sample_recommendation(\n",
    "    model,\n",
    "    result_df.filter(regex=(\"count_kt\")),\n",
    "    result_df.loc[result_df.okved2==1000].index.values.tolist()\n",
    ")\n",
    "preds = [int(i.split('_')[0]) for i in preds]"
   ]
  },
  {
   "cell_type": "code",
   "execution_count": 92,
   "metadata": {},
   "outputs": [],
   "source": [
    "#ОКВЭДы для теста\n",
    "private_df = pd.read_csv('../data/inn_info_private.csv')"
   ]
  },
  {
   "cell_type": "code",
   "execution_count": 93,
   "metadata": {
    "scrolled": true
   },
   "outputs": [
    {
     "name": "stdout",
     "output_type": "stream",
     "text": [
      "f1 macro = 0.0556868706180914\n"
     ]
    }
   ],
   "source": [
    "print('f1 macro =', f1_score(list(private_df.okved2), preds, average = 'macro'))"
   ]
  }
 ],
 "metadata": {
  "kernelspec": {
   "display_name": "Python 3",
   "language": "python",
   "name": "python3"
  },
  "language_info": {
   "codemirror_mode": {
    "name": "ipython",
    "version": 3
   },
   "file_extension": ".py",
   "mimetype": "text/x-python",
   "name": "python",
   "nbconvert_exporter": "python",
   "pygments_lexer": "ipython3",
   "version": "3.7.7"
  }
 },
 "nbformat": 4,
 "nbformat_minor": 2
}
