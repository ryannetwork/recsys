{
 "cells": [
  {
   "cell_type": "code",
   "execution_count": 1,
   "metadata": {
    "collapsed": true
   },
   "outputs": [],
   "source": [
    "from getpass import getuser\n",
    "import datetime\n",
    "from datetime import datetime as dt\n",
    "import pandas as pd\n",
    "import numpy as np\n",
    "from scipy.sparse import load_npz\n",
    "import sys\n",
    "import os\n",
    "\n",
    "%matplotlib inline\n",
    "pd.set_option('display.float_format', '{:.0f}'.format)\n",
    "pd.set_option('display.max_rows', 1000)\n",
    "pd.set_option('display.max_columns', 1000)"
   ]
  },
  {
   "cell_type": "code",
   "execution_count": 2,
   "metadata": {
    "collapsed": true
   },
   "outputs": [],
   "source": [
    "SparkAppName = 'Author-Project-Part-{0}'\n",
    "spark_home = '/opt/spark22/SPARK2-2.2.0.cloudera2-1.cdh5.12.0.p0.232957/lib/spark2'\n",
    "os.environ['SPARK_HOME'] = spark_home\n",
    "os.environ['PYSPARK_DRIVER_PYTHON'] = 'python'\n",
    "os.environ['PYSPARK_PYTHON'] = '/opt/cloudera/parcels/PYENV.ZNO52292115/bin/python'\n",
    "\n",
    "sys.path.insert(0, os.path.join (spark_home,'python'))\n",
    " \n",
    "sys.path.insert(0, os.path.join (spark_home,'python/lib/py4j-0.10.4-src.zip'))\n",
    "from pyspark import SparkContext, SparkConf, HiveContext\n",
    "\n",
    "conf = SparkConf() \\\n",
    "    .setAppName(SparkAppName.format(str(dt.now()).split()[1][:5])) \\\n",
    "    .setMaster(\"yarn-client\") \\\n",
    "    .set('spark.yarn.queue', 'root.g_dl_u_corp.korniltsev1-da_ca-sbrf-ru') \\\n",
    "    .set('spark.dynamicAllocation.enabled', 'true') \\\n",
    "    .set('spark.local.dir', 'sparktmp') \\\n",
    "    .set('spark.executor.memory','20g') \\\n",
    "    .set('spark.driver.memory', '40g') \\\n",
    "    .set('spark.executor.cores', '2') \\\n",
    "    .set('spark.executor.instances', '140') \\\n",
    "    .set('spark.driver.maxResultSize','10g') \\\n",
    "    .set('spark.yarn.driver.memoryOverhead', '2g') \\\n",
    "    .set('spark.port.maxRetries', '150') \\\n",
    "    .set('spark.kryoserializer.buffer.max.mb','512') \\\n",
    "    .set('\"spark.default.parallelism','1000') \\\n",
    "    .set('spark.ui.killEnable','true')"
   ]
  },
  {
   "cell_type": "code",
   "execution_count": 3,
   "metadata": {},
   "outputs": [
    {
     "name": "stdout",
     "output_type": "stream",
     "text": [
      "Start 2020-06-10 09:53:01.546302\n",
      "Allocated 2020-06-10 09:53:30.446138\n"
     ]
    }
   ],
   "source": [
    "print('Start',dt.now())\n",
    "sc = SparkContext.getOrCreate(conf=conf)\n",
    "hive = HiveContext(sc)\n",
    "print('Allocated', dt.now())"
   ]
  },
  {
   "cell_type": "code",
   "execution_count": 4,
   "metadata": {
    "collapsed": true
   },
   "outputs": [],
   "source": [
    "from pyspark.sql.types import TimestampType, DoubleType, IntegerType, StringType, DateType, ArrayType\n",
    "import pyspark.sql.functions as F\n",
    "from pyspark.sql.window import *\n",
    "from pyspark.ml.feature import HashingTF, IDF, Tokenizer\n",
    "from functools import reduce"
   ]
  },
  {
   "cell_type": "markdown",
   "metadata": {},
   "source": [
    "# Текстовые эмбединги на tf idf"
   ]
  },
  {
   "cell_type": "code",
   "execution_count": 57,
   "metadata": {
    "collapsed": true
   },
   "outputs": [],
   "source": [
    "text_kt = hive.table(\"t_fin_adviser.words_sums_ct_agg_18_19\")\n",
    "text_kt = text_kt.filter((F.col(\"word\").isNotNull()) & \\\n",
    "                         (F.col(\"short_dt\").between(\"2019-01-01\", \"2019-12-31\"))\n",
    "                        )"
   ]
  },
  {
   "cell_type": "code",
   "execution_count": 59,
   "metadata": {
    "collapsed": true
   },
   "outputs": [],
   "source": [
    "df1 = text_kt \\\n",
    "    .groupBy('inn_kt') \\\n",
    "    .agg(F.collect_list('word').alias('words_flaten')) \\\n",
    "    .select(F.col(\"inn_kt\").alias(\"inn\"), \"words_flaten\")"
   ]
  },
  {
   "cell_type": "code",
   "execution_count": 60,
   "metadata": {
    "collapsed": true
   },
   "outputs": [],
   "source": [
    "target = df1.where(F.col('inn').isin(cases)).select('inn', 'words_flaten')"
   ]
  },
  {
   "cell_type": "code",
   "execution_count": 61,
   "metadata": {
    "collapsed": true
   },
   "outputs": [],
   "source": [
    "hashingTF = HashingTF(inputCol=\"words_flaten\", outputCol=\"rawFeatures\")\n",
    "featurizedData = hashingTF.transform(df1)"
   ]
  },
  {
   "cell_type": "code",
   "execution_count": 62,
   "metadata": {},
   "outputs": [
    {
     "name": "stdout",
     "output_type": "stream",
     "text": [
      "CPU times: user 3.07 ms, sys: 6.15 ms, total: 9.22 ms\n",
      "Wall time: 40.7 s\n"
     ]
    }
   ],
   "source": [
    "%%time\n",
    "idf = IDF(inputCol=\"rawFeatures\", outputCol=\"features\")\n",
    "idfModel = idf.fit(featurizedData)"
   ]
  },
  {
   "cell_type": "code",
   "execution_count": 63,
   "metadata": {},
   "outputs": [
    {
     "name": "stdout",
     "output_type": "stream",
     "text": [
      "CPU times: user 55 µs, sys: 1.12 ms, total: 1.17 ms\n",
      "Wall time: 7.78 ms\n"
     ]
    }
   ],
   "source": [
    "%%time\n",
    "rescaledData = idfModel.transform(featurizedData)"
   ]
  },
  {
   "cell_type": "code",
   "execution_count": 64,
   "metadata": {
    "collapsed": true
   },
   "outputs": [],
   "source": [
    "target_features = idfModel.transform(hashingTF.transform(target)) \\\n",
    "    .select(F.col('inn').alias('inn_target'), F.col('features').alias('features_target'))"
   ]
  },
  {
   "cell_type": "code",
   "execution_count": 66,
   "metadata": {
    "collapsed": true
   },
   "outputs": [],
   "source": [
    "joined = rescaledData.join(target_features, \n",
    "                           (rescaledData.inn!=target_features.inn_target)\n",
    "                           )"
   ]
  },
  {
   "cell_type": "code",
   "execution_count": 50,
   "metadata": {
    "collapsed": true
   },
   "outputs": [],
   "source": [
    "@F.udf(DoubleType())\n",
    "def cosine_similarity(v, u):\n",
    "    if (v is None) or (u is None) or (v.norm(2) == 0) or (u.norm(2) == 0):\n",
    "        return None\n",
    "    else:\n",
    "        return float(v.dot(u) / (v.norm(2) * u.norm(2)))"
   ]
  },
  {
   "cell_type": "code",
   "execution_count": 67,
   "metadata": {
    "collapsed": true
   },
   "outputs": [],
   "source": [
    "df_dist = joined.withColumn('dist', cosine_similarity(F.col('features'), F.col('features_target')))"
   ]
  },
  {
   "cell_type": "code",
   "execution_count": 97,
   "metadata": {
    "collapsed": true
   },
   "outputs": [],
   "source": [
    "w = Window.partitionBy('inn_target').orderBy(F.desc('dist'))\n",
    "dfTop = df_dist.withColumn('rn', F.row_number().over(w)).where(F.col('rn')<100000)"
   ]
  },
  {
   "cell_type": "code",
   "execution_count": 101,
   "metadata": {
    "collapsed": true
   },
   "outputs": [],
   "source": [
    "dfTop.select('inn_target', 'inn', 'dist').write.format('parquet').mode('overwrite') \\\n",
    "            .saveAsTable(\"{}.wlt_similar_tf_idf_200k\".format('t_team_ds_szb'))"
   ]
  },
  {
   "cell_type": "code",
   "execution_count": 103,
   "metadata": {
    "collapsed": true
   },
   "outputs": [],
   "source": [
    "df = hive.table(\"{}.wlt_similar_tf_idf_200k\".format('t_team_ds_szb'))"
   ]
  }
 ],
 "metadata": {
  "kernelspec": {
   "display_name": "Python 3.5.4 (ZNO52292115)",
   "language": "python",
   "name": "python35_zno52292115"
  },
  "language_info": {
   "codemirror_mode": {
    "name": "ipython",
    "version": 3
   },
   "file_extension": ".py",
   "mimetype": "text/x-python",
   "name": "python",
   "nbconvert_exporter": "python",
   "pygments_lexer": "ipython3",
   "version": "3.5.4"
  }
 },
 "nbformat": 4,
 "nbformat_minor": 2
}
